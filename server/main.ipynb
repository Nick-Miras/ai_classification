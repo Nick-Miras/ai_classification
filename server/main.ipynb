{
 "cells": [
  {
   "cell_type": "code",
   "execution_count": 2,
   "metadata": {},
   "outputs": [],
   "source": [
    "from ultralytics import YOLO\n",
    "from PIL import Image"
   ]
  },
  {
   "cell_type": "code",
   "execution_count": null,
   "metadata": {},
   "outputs": [],
   "source": [
    "model = YOLO('models/yolov8m-seg.pt') \n",
    "result, = model.predict(Image.open('images/paper.jpeg'), save=False, stream=True)"
   ]
  },
  {
   "cell_type": "code",
   "execution_count": null,
   "metadata": {},
   "outputs": [],
   "source": [
    "if (probabilities := result.probs) is None:\n",
    "    raise ValueError('NULL Result')\n",
    "else:\n",
    "    result = result.probs.top1\n",
    "    if result in (0, 1, 3):\n",
    "        print('Non-Biodegradable')\n",
    "    elif result in (2, 4):\n",
    "        print('Biodegradable')\n",
    "    else:\n",
    "        print(ValueError('Invalid Waste Type')"
   ]
  }
 ],
 "metadata": {
  "kernelspec": {
   "display_name": "Python 3 (ipykernel)",
   "language": "python",
   "name": "python3"
  }
 },
 "nbformat": 4,
 "nbformat_minor": 2
}
